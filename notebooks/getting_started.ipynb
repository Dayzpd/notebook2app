{
 "cells": [
  {
   "cell_type": "markdown",
   "id": "cc7fc0e4",
   "metadata": {},
   "source": [
    "## Getting Started\n",
    "\n",
    "1. Copy an example from the `examples/` fodler into your `work/` folder.\n",
    "\n",
    "2. Run the `deploy.ipynb` notebook to deploy your app.\n",
    "\n",
    "3. You can update the app by re-running `deploy.ipynb` notebook.\n",
    "\n",
    "---\n",
    "\n",
    "## FAQ\n",
    "\n",
    "### Will my project be saved in between sessions?\n",
    "\n",
    "Yes, but you **MUST** put all work that you want saved in the `work/` folder!\n",
    "\n",
    "### How long will it take to deploy my app?\n",
    "\n",
    "Approximately ~3 minutes. \n",
    "\n",
    "### How do I access my app?\n",
    "\n",
    "Your app will be available at the following URL: `https://{app-name}-{username}.{base_url}`\n",
    "\n",
    "For example, let's say your username is `dennis`, your app name is `demo`, and the domain in your URL bar is `notebook2app.example.com`.\n",
    "\n",
    "After you deploy your app, it should be available at `https://demo-dennis.notebook2app.example.com`.\n",
    "\n",
    "### How do I see my app's logs?\n",
    "\n",
    "You can't at the moment. This is just a proof of concept.\n",
    "\n",
    "### What are the options for the notebook2app.deploy() function?\n",
    "\n",
    "- **name** (`required`): The name of your app. \n",
    "- **notebook_file** (`required`): The file path to your notebook app *relative to the notebook you're deploying from*.\n",
    "- **requirements_file** (`required`): The file path to your requirements.txt file *relative to the notebook you're deploying from*.\n",
    "- **command** (default: `python`): For some frameworks like gradio, they have their own special cli to start their apps. So this paramater allows you to specify an alternative program to start your app instead of just using the `python` executable.\n",
    "- **dry_run** (default: `False`): When set to `True`, it will just dump the rendered kubernetes manifests in the same directory as the notebook used to deploy.\n",
    "\n"
   ]
  }
 ],
 "metadata": {
  "language_info": {
   "name": "python"
  }
 },
 "nbformat": 4,
 "nbformat_minor": 5
}
