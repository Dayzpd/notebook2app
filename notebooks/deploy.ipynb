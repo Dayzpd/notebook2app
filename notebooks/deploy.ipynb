{
 "cells": [
  {
   "cell_type": "code",
   "execution_count": null,
   "id": "d6d76744",
   "metadata": {
    "vscode": {
     "languageId": "plaintext"
    }
   },
   "outputs": [],
   "source": [
    "import notebook2app\n",
    "\n",
    "notebook2app.deploy(\n",
    "    name          = \"demo\",\n",
    "    notebook_file = \"app.ipynb\",\n",
    "    conda_file    = \"conda.yaml\",\n",
    "    dry_run       = False,\n",
    ")"
   ]
  }
 ],
 "metadata": {
  "language_info": {
   "name": "python"
  }
 },
 "nbformat": 4,
 "nbformat_minor": 5
}
